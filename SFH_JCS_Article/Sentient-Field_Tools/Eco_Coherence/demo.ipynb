{
 "cells": [
  {
   "cell_type": "code",
   "execution_count": null,
   "metadata": {},
   "outputs": [],
   "source": [
    "# Import required libraries\n",
    "import pandas as pd\n",
    "import numpy as np\n",
    "from ecological import compute_ecocoherence, validate_ecocoherence\n",
    "import matplotlib.pyplot as plt\n",
    "\n",
    "# Generate synthetic food-web data for SFH ecological application (Section 4.1)\n",
    "np.random.seed(42)\n",
    "nodes = ['A', 'B', 'C', 'D', 'E']\n",
    "edges = pd.DataFrame({\n",
    "    'source': ['A', 'B', 'C', 'D', 'E', 'A'],\n",
    "    'target': ['B', 'C', 'D', 'E', 'A', 'C'],\n",
    "    'weight': np.random.uniform(0.5, 1.5, 6)\n",
    "})\n",
    "edges.to_csv('data/synthetic_edges.csv', index=False)\n",
    "\n",
    "# Compute eco-coherence\n",
    "result = compute_ecocoherence('data/synthetic_edges.csv', weight_col='weight')\n",
    "print(\"Eco-Coherence Result:\", result)\n",
    "\n",
    "# Validate against SFH expectations\n",
    "is_valid = validate_ecocoherence(result)\n",
    "print(\"Validation Result:\", is_valid)\n",
    "\n",
    "# Visualize C_eco and fertility_proxy\n",
    "plt.figure(figsize=(10, 5))\n",
    "plt.bar(['C_eco', 'Fertility Proxy'], [result['C_eco'], result['fertility_proxy']])\n",
    "plt.title('Eco-Coherence and Fertility Proxy for Synthetic Food Web')\n",
    "plt.ylabel('Value')\n",
    "plt.show()\n",
    "\n",
    "# Clean up\n",
    "import os\n",
    "os.remove('data/synthetic_edges.csv')"
   ]
  }
 ],
 "metadata": {
  "kernelspec": {
   "display_name": "Python 3",
   "language": "python",
   "name": "python3"
  },
  "language_info": {
   "name": "python",
   "version": "3.11"
  }
 }
}
