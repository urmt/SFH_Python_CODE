{
 "cells": [
  {
   "cell_type": "code",
   "execution_count": null,
   "metadata": {},
   "outputs": [],
   "source": [
    "# Import required libraries\n",
    "import numpy as np\n",
    "import matplotlib.pyplot as plt\n",
    "from mcmc_qualic import run_mcmc\n",
    "\n",
    "# Simulate synthetic gamma-band power data for SFH Protocol 2\n",
    "np.random.seed(42)\n",
    "q_obs = np.random.normal(2.0, 0.5, 100)  # Mean 2, std 0.5\n",
    "\n",
    "# Run MCMC\n",
    "result = run_mcmc(q_obs, n_iter=20000, burn_in=5000, n_chains=4)\n",
    "samples = result['samples']\n",
    "diagnostics = result['diagnostics']\n",
    "\n",
    "# Display diagnostics\n",
    "print(\"Diagnostics:\", diagnostics)\n",
    "\n",
    "# Plot posterior distributions\n",
    "plt.figure(figsize=(10, 6))\n",
    "for chain in samples.index.levels[0]:\n",
    "    chain_data = samples.loc[chain]\n",
    "    plt.hist(chain_data['mu'], bins=30, alpha=0.5, label=f'Chain {chain} (mu)')\n",
    "    plt.hist(chain_data['sigma_q'], bins=30, alpha=0.5, label=f'Chain {chain} (sigma_q)')\n",
    "plt.legend()\n",
    "plt.title('Posterior Distributions for Qualic Parameters')\n",
    "plt.xlabel('Parameter Value')\n",
    "plt.ylabel('Frequency')\n",
    "plt.show()"
   ]
  }
 ],
 "metadata": {
  "kernelspec": {
   "display_name": "Python 3",
   "language": "python",
   "name": "python3"
  },
  "language_info": {
   "name": "python",
   "version": "3.11"
  }
 }
}
