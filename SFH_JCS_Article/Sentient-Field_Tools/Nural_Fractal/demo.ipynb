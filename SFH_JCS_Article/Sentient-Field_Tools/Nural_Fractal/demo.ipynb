
### `demo.ipynb`
```json
{
 "cells": [
  {
   "cell_type": "code",
   "execution_count": null,
   "metadata": {},
   "outputs": [],
   "source": [
    "# Import required libraries\n",
    "from mne.datasets import sample\n",
    "from higuchi import compute_fractal, plot_fractal_results\n",
    "import os\n",
    "\n",
    "# Load sample EEG data for SFH Protocol 2 analysis\n",
    "sample_path = sample.data_path() + \"/MEG/sample/sample_audvis_raw.fif\"\n",
    "\n",
    "# Compute fractal dimensions and coherence with insight epochs\n",
    "result = compute_fractal(sample_path, kmax=10, epoch_len_sec=2.0, insight_epochs=[0, 1], out_csv=\"data/fractal_results.csv\")\n",
    "print(\"Fractal Analysis Result:\", result)\n",
    "\n",
    "# Display statistical significance\n",
    "if result['stats']:\n",
    "    print(\"Statistical Test (p-value):\", result['stats']['p_value'])\n",
    "\n",
    "# Visualize results\n",
    "plot_fractal_results(result)\n",
    "\n",
    "# Clean up\n",
    "if os.path.exists(\"data/fractal_results.csv\"):\n",
    "    os.remove(\"data/fractal_results.csv\")"
   ]
  }
 ],
 "metadata": {
  "kernelspec": {
   "display_name": "Python 3",
   "language": "python",
   "name": "python3"
  },
  "language_info": {
   "name": "python",
   "version": "3.11"
  }
 }
}
