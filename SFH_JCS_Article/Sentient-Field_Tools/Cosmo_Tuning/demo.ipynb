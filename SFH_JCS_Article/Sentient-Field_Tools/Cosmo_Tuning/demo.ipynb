{
 "cells": [
  {
   "cell_type": "code",
   "execution_count": null,
   "metadata": {},
   "outputs": [],
   "source": [
    "# Import required libraries\n",
    "import pandas as pd\n",
    "import numpy as np\n",
    "from cosmology import run_cosmo_tuning\n",
    "import matplotlib.pyplot as plt\n",
    "import os\n",
    "\n",
    "# Generate synthetic cosmological observations for SFH Protocol 3\n",
    "np.random.seed(42)\n",
    "obs_data = pd.DataFrame(np.random.normal(0.3, 0.1, 3))  # e.g., Ω_m, H0, Ω_Λ\n",
    "obs_data.to_csv('data/obs_data.csv', index=False)\n",
    "\n",
    "# Run cosmological tuning\n",
    "result = run_cosmo_tuning('data/obs_data.csv', lambda_reg=0.01, lr=1e-3, n_iter=2000)\n",
    "print(\"Optimization Result:\", result)\n",
    "\n",
    "# Plot loss history\n",
    "plt.figure(figsize=(6, 4))\n",
    "plt.plot(result['loss_history'], label=\"Loss\")\n",
    "plt.xlabel(\"Iteration\")\n",
    "plt.ylabel(\"Loss\")\n",
    "plt.title(\"Cosmological Tuning Loss (SFH Protocol 3)\")\n",
    "plt.legend()\n",
    "plt.show()\n",
    "\n",
    "# Clean up\n",
    "os.remove('data/obs_data.csv')\n",
    "if os.path.exists('cosmo_tuning_loss.png'):\n",
    "    os.remove('cosmo_tuning_loss.png')"
   ]
  }
 ],
 "metadata": {
  "kernelspec": {
   "display_name": "Python 3",
   "language": "python",
   "name": "python3"
  },
  "language_info": {
   "name": "python",
   "version": "3.11"
  }
 }
}
