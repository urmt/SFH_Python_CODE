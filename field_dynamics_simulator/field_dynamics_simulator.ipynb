{
 "cells": [
  {
   "cell_type": "markdown",
   "metadata": {},
   "source": [
    "# Field Dynamics Simulator (SFH Project)\n",
    "This Jupyter Notebook runs the SFH Field Dynamics Simulator **locally** with interactive sliders.\n",
    "\n",
    "You can adjust parameters (steps, entities, noise, coupling strengths) and visualize coherence & fertility dynamics."
   ]
  },
  {
   "cell_type": "code",
   "execution_count": null,
   "metadata": {},
   "outputs": [],
   "source": [
    "import numpy as np\n",
    "import matplotlib.pyplot as plt\n",
    "import json\n",
    "from pathlib import Path\n",
    "import ipywidgets as widgets\n",
    "from ipywidgets import interact\n",
    "\n",
    "class FieldDynamicsSimulator:\n",
    "    def __init__(self, n_steps=500, n_entities=200, seed=None, noise=0.05, alpha=0.1, beta=0.05):\n",
    "        self.n_steps = n_steps\n",
    "        self.n_entities = n_entities\n",
    "        self.rng = np.random.default_rng(seed)\n",
    "        self.noise = noise\n",
    "        self.alpha = alpha  # fertility → coherence coupling\n",
    "        self.beta = beta   # coherence → fertility coupling\n",
    "\n",
    "        # Initialize states\n",
    "        self.coherence = self.rng.random(n_entities)\n",
    "        self.fertility = self.rng.random(n_entities)\n",
    "        self.history = {\"coherence\": [], \"fertility\": []}\n",
    "\n",
    "    def step(self):\n",
    "        noise = self.noise * self.rng.standard_normal(self.n_entities)\n",
    "\n",
    "        delta_c = self.alpha * (self.fertility - 0.5) - self.beta * (self.coherence - 0.5) + noise\n",
    "        delta_f = self.alpha * (self.coherence - 0.5) - self.beta * (self.fertility - 0.5) + noise\n",
    "\n",
    "        self.coherence = np.clip(self.coherence + delta_c, 0, 1)\n",
    "        self.fertility = np.clip(self.fertility + delta_f, 0, 1)\n",
    "\n",
    "        self.history[\"coherence\"].append(self.coherence.mean())\n",
    "        self.history[\"fertility\"].append(self.fertility.mean())\n",
    "\n",
    "    def run(self):\n",
    "        for _ in range(self.n_steps):\n",
    "            self.step()\n",
    "        return self.history\n",
    "\n",
    "    def plot_results(self):\n",
    "        steps = np.arange(len(self.history[\"coherence\"]))\n",
    "        plt.figure(figsize=(10,6))\n",
    "        plt.plot(steps, self.history[\"coherence\"], label=\"Coherence\", linewidth=2)\n",
    "        plt.plot(steps, self.history[\"fertility\"], label=\"Fertility\", linewidth=2)\n",
    "        plt.xlabel(\"Time Step\")\n",
    "        plt.ylabel(\"Average Value\")\n",
    "        plt.title(\"SFH Field Dynamics Simulation\")\n",
    "        plt.legend()\n",
    "        plt.grid(True, alpha=0.3)\n",
    "        plt.show()"
   ]
  },
  {
   "cell_type": "code",
   "execution_count": null,
   "metadata": {},
   "outputs": [],
   "source": [
    "def run_interactive_sim(n_steps=500, n_entities=200, noise=0.05, alpha=0.1, beta=0.05, seed=42):\n",
    "    sim = FieldDynamicsSimulator(n_steps=n_steps, n_entities=n_entities,\n",
    "                                noise=noise, alpha=alpha, beta=beta, seed=seed)\n",
    "    sim.run()\n",
    "    sim.plot_results()\n",
    "\n",
    "interact(run_interactive_sim,\n",
    "         n_steps=widgets.IntSlider(value=500, min=100, max=2000, step=100),\n",
    "         n_entities=widgets.IntSlider(value=200, min=50, max=1000, step=50),\n",
    "         noise=widgets.FloatSlider(value=0.05, min=0.0, max=0.2, step=0.01),\n",
    "         alpha=widgets.FloatSlider(value=0.1, min=0.0, max=0.3, step=0.01),\n",
    "         beta=widgets.FloatSlider(value=0.05, min=0.0, max=0.3, step=0.01),\n",
    "         seed=widgets.IntSlider(value=42, min=0, max=100))"
   ]
  }
 ],
 "metadata": {
  "kernelspec": {
   "display_name": "Python 3",
   "language": "python",
   "name": "python3"
  },
  "language_info": {
   "name": "python",
   "version": "3.10"
  }
 },
 "nbformat": 4,
 "nbformat_minor": 5
}
